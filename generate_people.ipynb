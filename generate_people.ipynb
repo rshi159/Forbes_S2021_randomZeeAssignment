{
 "cells": [
  {
   "cell_type": "code",
   "execution_count": 96,
   "metadata": {},
   "outputs": [],
   "source": [
    "import numpy as np\n",
    "import pandas as pd\n",
    "import logging\n",
    "import sys"
   ]
  },
  {
   "cell_type": "code",
   "execution_count": 97,
   "metadata": {},
   "outputs": [],
   "source": [
    "NAME_IDX = 1\n",
    "EMAIL_IDX = 2\n",
    "STATUS_IDX = 3\n",
    "ACTION_IDX = 4\n",
    "\n",
    "# Rename if option strings change. Order matters since we make new columns with numerical values.\n",
    "STATUS_OPTIONS = [\"Yes\", \"No\", \"In testing protocol, but off campus\"]\n",
    "STATUS_ENCODING = [0,1,2]\n",
    "\n",
    "ACTION_OPTIONS = [\"Put me on the list!\",\"Take me off of the list!\"]\n",
    "ACTION_ENCODING = [0,1]"
   ]
  },
  {
   "cell_type": "code",
   "execution_count": 98,
   "metadata": {},
   "outputs": [],
   "source": [
    "# read data into df\n",
    "df = pd.read_csv('submissions.csv')\n",
    "\n",
    "# new df for list of unique students. Column headers are same as imported df\n",
    "df_gen = pd.DataFrame(columns=df.columns)\n",
    "\n",
    "names = pd.read_csv('random_names.csv',header=None)\n",
    "\n",
    "# array of 3 * n people.\n",
    "names = pd.concat([names,names,names])"
   ]
  },
  {
   "cell_type": "code",
   "execution_count": 99,
   "metadata": {},
   "outputs": [],
   "source": [
    "def gen_arr(size, num_states):\n",
    "    out = np.floor(np.random.rand(size)*num_states)\n",
    "    return out\n",
    "    "
   ]
  },
  {
   "cell_type": "code",
   "execution_count": 100,
   "metadata": {},
   "outputs": [],
   "source": [
    "email = []\n",
    "status = []\n",
    "action = []\n",
    "status_val = gen_arr(len(names), 3)\n",
    "action_val = gen_arr(len(names), 2)\n",
    "for i in range(len(names)):\n",
    "    email.append(str(names.iloc[i,0]) + \"@pton.edu\")\n",
    "    action.append(ACTION_OPTIONS[int(action_val[i])])\n",
    "    status.append(STATUS_OPTIONS[int(status_val[i])])\n",
    "date = gen_arr(len(names), 2)"
   ]
  },
  {
   "cell_type": "code",
   "execution_count": 102,
   "metadata": {},
   "outputs": [],
   "source": [
    "d = {'Timestamp':date,'Name': names.iloc[:,0],\"Email\":email, \"Are you on campus (i.e. participating in the University's testing protocol)?\": status, \"Action\":action}\n",
    "out = pd.DataFrame(d)\n",
    "pd.DataFrame(out).to_csv(\"test_data.csv\", index=False)"
   ]
  },
  {
   "cell_type": "code",
   "execution_count": null,
   "metadata": {},
   "outputs": [],
   "source": []
  },
  {
   "cell_type": "code",
   "execution_count": null,
   "metadata": {},
   "outputs": [],
   "source": []
  },
  {
   "cell_type": "code",
   "execution_count": null,
   "metadata": {},
   "outputs": [],
   "source": []
  }
 ],
 "metadata": {
  "kernelspec": {
   "display_name": "Python 3",
   "language": "python",
   "name": "python3"
  },
  "language_info": {
   "codemirror_mode": {
    "name": "ipython",
    "version": 3
   },
   "file_extension": ".py",
   "mimetype": "text/x-python",
   "name": "python",
   "nbconvert_exporter": "python",
   "pygments_lexer": "ipython3",
   "version": "3.8.5"
  }
 },
 "nbformat": 4,
 "nbformat_minor": 4
}
