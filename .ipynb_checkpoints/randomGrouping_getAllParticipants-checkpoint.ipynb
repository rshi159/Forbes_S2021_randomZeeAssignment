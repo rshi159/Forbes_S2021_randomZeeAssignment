{
 "cells": [
  {
   "cell_type": "code",
   "execution_count": 192,
   "metadata": {},
   "outputs": [],
   "source": [
    "import numpy as np\n",
    "import pandas as pd\n",
    "import logging\n",
    "import sys"
   ]
  },
  {
   "cell_type": "code",
   "execution_count": 197,
   "metadata": {},
   "outputs": [],
   "source": [
    "# Set parameters\n",
    "\n",
    "# Column index of data. Col 0 should be datetime of submission\n",
    "NAME_IDX = 1\n",
    "EMAIL_IDX = 2\n",
    "STATUS_IDX = 3\n",
    "ACTION_IDX = 4\n",
    "\n",
    "# Rename if option strings change. Order matters since we make new columns with numerical values.\n",
    "STATUS_OPTIONS = [\"Yes\", \"No\", \"In testing protocol, but off campus\"]\n",
    "STATUS_ENCODING = [0,1,2]\n",
    "\n",
    "ACTION_OPTIONS = [\"Put me on the list!\",\"Take me off of the list!\"]\n",
    "ACTION_ENCODING = [0,1]\n",
    "\n",
    "# Set group size. We will probably have people left over so we can assign them by hand.\n",
    "GROUP_SIZE = 4\n",
    "\n",
    "# filepath to save output as\n",
    "FILEPATH = \"./groupings.xlsx\"\n",
    "\n",
    "# create logger for debug and useful output. Print to stdout\n",
    "root = logging.getLogger()\n",
    "root.setLevel(logging.DEBUG)\n",
    "\n",
    "handler = logging.StreamHandler(sys.stdout)\n",
    "handler.setLevel(logging.DEBUG)"
   ]
  },
  {
   "cell_type": "code",
   "execution_count": 204,
   "metadata": {},
   "outputs": [
    {
     "name": "stderr",
     "output_type": "stream",
     "text": [
      "DEBUG:root:>>Starting<<\n",
      "DEBUG:root:>>Randomizing students into groups of size: 4 <<\n",
      "DEBUG:root:>>Expect 1 groups<<\n",
      "DEBUG:root:>>Number of ungrouped students = 1<<\n",
      "DEBUG:root:>>Writing to Excel Document at: ./groupings.xlsx <<\n"
     ]
    }
   ],
   "source": [
    "logging.debug(\">>Starting<<\")\n",
    "# read data into df\n",
    "df = pd.read_csv('submissions.csv')\n",
    "# new df for list of unique students. Column headers are same as imported df\n",
    "df_students = pd.DataFrame(columns=df.columns)\n",
    "# yes = 0, no = 1, near campus = 2.\n",
    "df['status'] = df.iloc[:,STATUS_IDX].replace(STATUS_OPTIONS,STATUS_OPTIONS)\n",
    "# 0 = add to list. 1 = remove from list\n",
    "df['action'] = df.iloc[:,ACTION_IDX].replace(ACTION_OPTIONS,ACTION_ENCODING)\n",
    "\n",
    "# we will assume students won't make any spelling errors. However names might be weird with spacing and capitalization\n",
    "# the code will identify unique students by their email.\n",
    "\n",
    "# get array of unique emails\n",
    "uniq_email = df['Email'].unique()\n",
    "\n",
    "# fill dataframe of unique students\n",
    "for name in uniq_email:\n",
    "#     details of most recent sumbission\n",
    "    recent_sub = df.loc[df['Email'] == name].iloc[-1,:]\n",
    "#     print(recent_sub)\n",
    "    if recent_sub['action'] == 0:\n",
    "        df_students = df_students.append(recent_sub)\n",
    "\n",
    "\n",
    "# randomize ordering to avoid anything dumb like roomdraw.\n",
    "logging.debug(\">>Randomizing students into groups of size: %d <<\" % GROUP_SIZE)\n",
    "# get number of rows in dataframe\n",
    "num_students = df_students.shape[0]\n",
    "logging.debug(\">>Expect %d groups<<\" % np.ceil(num_students/GROUP_SIZE))\n",
    "# create an incremental array of length equal to number of students\n",
    "index = np.arange(num_students)\n",
    "# shuffle the array, the function scrambles the input array. No return, probably passes the pointer as input.\n",
    "np.random.shuffle(index)\n",
    "df_students = df_students.iloc[index, :]\n",
    "\n",
    "# create array of emails with each column having number of students in a group.\n",
    "# the last row will have placeholders. Please insert those folks in other groups\n",
    "emails = df_students['Email']\n",
    "# gets number of placeholders we need to add in order to get number of students to be a multiple of GROUP_SIZE\n",
    "padding_len = GROUP_SIZE - num_students % GROUP_SIZE\n",
    "logging.debug(\">>Number of ungrouped students = %d<<\" % (num_students % GROUP_SIZE))\n",
    "emails_padded = np.append(emails, np.repeat(\"placeholder@placeholder.edu\",padding_len))\n",
    "\n",
    "# Reshape array so it can easily be pasted into recipients bar of gmail\n",
    "output_arr = emails_padded.reshape(-1,GROUP_SIZE)\n",
    "# Make the output a dataframe and save as excel file\n",
    "logging.debug(\">>Writing to Excel Document at: %s <<\" % FILEPATH)\n",
    "pd.DataFrame(output_arr).to_excel(FILEPATH, index=False)"
   ]
  },
  {
   "cell_type": "code",
   "execution_count": 206,
   "metadata": {},
   "outputs": [
    {
     "data": {
      "text/plain": [
       "'\\n!jupyter nbconvert --to python randomGrouping_getAllParticipants.ipynb\\n!chmod +x randomGrouping_getAllParticipants.py\\n'"
      ]
     },
     "execution_count": 206,
     "metadata": {},
     "output_type": "execute_result"
    }
   ],
   "source": [
    "# # Save the code to a python script. copy and paste into terminal\n",
    "# !jupyter nbconvert --to python randomGrouping_getAllParticipants.ipynb"
   ]
  },
  {
   "cell_type": "code",
   "execution_count": null,
   "metadata": {},
   "outputs": [],
   "source": []
  }
 ],
 "metadata": {
  "kernelspec": {
   "display_name": "Python 3",
   "language": "python",
   "name": "python3"
  },
  "language_info": {
   "codemirror_mode": {
    "name": "ipython",
    "version": 3
   },
   "file_extension": ".py",
   "mimetype": "text/x-python",
   "name": "python",
   "nbconvert_exporter": "python",
   "pygments_lexer": "ipython3",
   "version": "3.8.5"
  }
 },
 "nbformat": 4,
 "nbformat_minor": 4
}
